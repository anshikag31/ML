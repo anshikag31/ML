{
 "cells": [
  {
   "cell_type": "code",
   "execution_count": 1,
   "id": "76144ce6",
   "metadata": {},
   "outputs": [],
   "source": [
    "from difflib import SequenceMatcher"
   ]
  },
  {
   "cell_type": "code",
   "execution_count": 5,
   "id": "84761f16",
   "metadata": {},
   "outputs": [
    {
     "name": "stdout",
     "output_type": "stream",
     "text": [
      "58.098223615464995\n"
     ]
    }
   ],
   "source": [
    "with open(r\"C:\\Users\\KIIT\\Documents\\ML\\1.txt\") as file1, open(r\"C:\\Users\\KIIT\\Documents\\ML\\2.txt\") as file2:\n",
    "    file1_data=file1.read()\n",
    "    file2_data=file2.read()\n",
    "    \n",
    "    similarityratio=SequenceMatcher(None,file1_data,file2_data).ratio()\n",
    "    print(similarityratio*100)"
   ]
  },
  {
   "cell_type": "code",
   "execution_count": null,
   "id": "606ea008",
   "metadata": {},
   "outputs": [],
   "source": []
  }
 ],
 "metadata": {
  "kernelspec": {
   "display_name": "Python 3 (ipykernel)",
   "language": "python",
   "name": "python3"
  },
  "language_info": {
   "codemirror_mode": {
    "name": "ipython",
    "version": 3
   },
   "file_extension": ".py",
   "mimetype": "text/x-python",
   "name": "python",
   "nbconvert_exporter": "python",
   "pygments_lexer": "ipython3",
   "version": "3.9.13"
  }
 },
 "nbformat": 4,
 "nbformat_minor": 5
}
